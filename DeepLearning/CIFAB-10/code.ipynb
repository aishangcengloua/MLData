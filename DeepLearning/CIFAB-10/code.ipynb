{
 "cells": [
  {
   "cell_type": "code",
   "execution_count": 12,
   "id": "590145b3",
   "metadata": {},
   "outputs": [
    {
     "name": "stdout",
     "output_type": "stream",
     "text": [
      "epoch:0, Train Loss:0.4105, Train Acc0.8743, Test Loss:0.1828, Test Acc:0.9440 \n",
      "epoch:1, Train Loss:0.1633, Train Acc0.9504, Test Loss:0.1389, Test Acc:0.9558 \n",
      "epoch:2, Train Loss:0.1176, Train Acc0.9640, Test Loss:0.1148, Test Acc:0.9617 \n",
      "epoch:3, Train Loss:0.0921, Train Acc0.9714, Test Loss:0.0841, Test Acc:0.9732 \n",
      "epoch:4, Train Loss:0.0749, Train Acc0.9766, Test Loss:0.0880, Test Acc:0.9734 \n",
      "epoch:5, Train Loss:0.0666, Train Acc0.9791, Test Loss:0.0827, Test Acc:0.9747 \n",
      "epoch:6, Train Loss:0.0553, Train Acc0.9821, Test Loss:0.0837, Test Acc:0.9724 \n",
      "epoch:7, Train Loss:0.0481, Train Acc0.9850, Test Loss:0.0671, Test Acc:0.9794 \n",
      "epoch:8, Train Loss:0.0430, Train Acc0.9862, Test Loss:0.0732, Test Acc:0.9790 \n",
      "epoch:9, Train Loss:0.0369, Train Acc0.9878, Test Loss:0.0840, Test Acc:0.9749 \n"
     ]
    },
    {
     "data": {
      "text/plain": [
       "<matplotlib.legend.Legend at 0x1b828269070>"
      ]
     },
     "execution_count": 12,
     "metadata": {},
     "output_type": "execute_result"
    },
    {
     "data": {
      "image/png": "[encoded data removed]",
      "text/plain": [
       "<Figure size 432x288 with 1 Axes>"
      ]
     },
     "metadata": {
      "needs_background": "light"
     },
     "output_type": "display_data"
    }
   ],
   "source": [
    "import numpy as np\n",
    "import torch.nn as nn\n",
    "import torch\n",
    "import torch.optim as optim\n",
    "import torch.nn.functional as F\n",
    "import matplotlib.pyplot as plt\n",
    "from torch.utils.data import DataLoader\n",
    "from torchvision import transforms\n",
    "from torchvision.datasets import mnist\n",
    "\n",
    "train_batch_size = 64\n",
    "test_batch_size = 128\n",
    "lr = 0.01\n",
    "momentum = 0.9\n",
    "maxepoch = 10\n",
    "\n",
    "#数据的预处理\n",
    "transform = transforms.Compose([transforms.ToTensor(), transforms.Normalize([0.5], [0.5])])\n",
    "train_dataset = mnist.MNIST('./data', train=True, transform=transform, download=True)\n",
    "test_dataset = mnist.MNIST('./data', train=False, transform=transform)\n",
    "train_loader = DataLoader(dataset=train_dataset, batch_size=train_batch_size, shuffle=True)\n",
    "test_loader = DataLoader(dataset=test_dataset, batch_size=test_batch_size, shuffle=False)\n",
    "#构建网络\n",
    "class Net(nn.Module) :\n",
    "    def __init__(self, in_dim, n_hidden_1, n_hidden_2, out_dim) :\n",
    "        super(Net, self).__init__()\n",
    "        '''\n",
    "        self.layer1 = nn.Sequential(nn.Linear(in_dim, n_hidden_1), nn.BatchNorm1d(n_hidden_1))\n",
    "        self.layer2 = nn.Sequential(nn.Linear(n_hidden_1, n_hidden_2), nn.BatchNorm1d(n_hidden_2))\n",
    "        self.layer3 = nn.Sequential(nn.Linear(n_hidden_2, out_dim))'''\n",
    "        self.net = nn.Sequential(\n",
    "            nn.Linear(in_dim, n_hidden_1),\n",
    "            nn.ReLU(),\n",
    "            nn.Linear(n_hidden_1, n_hidden_2),\n",
    "            nn.ReLU(),\n",
    "            nn.Linear(n_hidden_2, out_dim)\n",
    "        )\n",
    "    def forward(self, x) :\n",
    "        return self.net(x)\n",
    "    \n",
    "device = torch.device(\"cuda:0\" if torch.cuda.is_available() else \"cpu\")\n",
    "model = Net(28 * 28, 300, 100, 10)\n",
    "model.to(device)\n",
    "optimization = optim.SGD(model.parameters(), lr = lr, momentum = momentum)\n",
    "criterion = nn.CrossEntropyLoss()\n",
    "#训练\n",
    "losses_train = []\n",
    "acces_train = []\n",
    "losses_test = []\n",
    "acces_test = []\n",
    "epoch = 0\n",
    "while epoch < maxepoch :\n",
    "    train_loss = 0\n",
    "    train_acc = 0\n",
    "    model.train()\n",
    "    for img, label in train_loader :\n",
    "        img = img.to(device)\n",
    "        label = label.to(device)\n",
    "        img = img.view(img.size(0), -1)#表示第0维的长度\n",
    "        out = model(img)\n",
    "        loss = criterion(out, label)\n",
    "        optimization.zero_grad()\n",
    "        loss.backward()\n",
    "        optimization.step()\n",
    "        train_loss += loss.item()\n",
    "        _, pred = out.max(1)#表示在第1维比较\n",
    "        num_correct = (pred == label).sum().item()\n",
    "        acc = num_correct / img.shape[0]\n",
    "        train_acc += acc\n",
    "    losses_train.append(train_loss / len(train_loader))\n",
    "    acces_train.append(train_acc / len(train_loader))\n",
    "        #预测\n",
    "    test_loss = 0\n",
    "    test_acc = 0\n",
    "    model.eval()\n",
    "    for img, label in test_loader:\n",
    "        img = img.to(device)\n",
    "        label = label.to(device)\n",
    "        img = img.view(img.size(0), -1)#表示第0维的长度\n",
    "        out = model(img)\n",
    "        loss = criterion(out, label)\n",
    "        test_loss += loss.item()\n",
    "        _, pred = out.max(1)\n",
    "        num_correct = (pred == label).sum().item()\n",
    "        acc = num_correct / img.shape[0]\n",
    "        test_acc += acc\n",
    "    losses_test.append(test_loss / len(test_loader))\n",
    "    acces_test.append(test_acc / len(test_loader))\n",
    "    print('epoch:{}, Train Loss:{:.4f}, Train Acc{:.4f}, Test Loss:{:.4f}, Test Acc:{:.4f} '.format(epoch, \n",
    "                                                                                                    train_loss / len(train_loader), train_acc / len(train_loader), \n",
    "                                                                                                    test_loss / len(test_loader), test_acc / len(test_loader)))\n",
    "    epoch += 1\n",
    "plt.title('Train_loss')\n",
    "plt.plot(np.arange(len(losses_train)), losses_train)\n",
    "plt.legend('Train_loss')"
   ]
  },
  {
   "cell_type": "code",
   "execution_count": null,
   "id": "0507cc0f",
   "metadata": {},
   "outputs": [],
   "source": []
  }
 ],
 "metadata": {
  "kernelspec": {
   "display_name": "Python 3",
   "language": "python",
   "name": "python3"
  },
  "language_info": {
   "codemirror_mode": {
    "name": "ipython",
    "version": 3
   },
   "file_extension": ".py",
   "mimetype": "text/x-python",
   "name": "python",
   "nbconvert_exporter": "python",
   "pygments_lexer": "ipython3",
   "version": "3.8.8"
  },
  "toc": {
   "base_numbering": 1,
   "nav_menu": {},
   "number_sections": true,
   "sideBar": true,
   "skip_h1_title": false,
   "title_cell": "Table of Contents",
   "title_sidebar": "Contents",
   "toc_cell": false,
   "toc_position": {},
   "toc_section_display": true,
   "toc_window_display": false
  }
 },
 "nbformat": 4,
 "nbformat_minor": 5
}
