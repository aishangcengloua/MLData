{
 "cells": [
  {
   "cell_type": "code",
   "execution_count": 1,
   "id": "d587ca1d",
   "metadata": {},
   "outputs": [],
   "source": [
    "import numpy as np\n",
    "import tushare as ts\n",
    "import pandas as pd \n",
    "import matplotlib.pyplot as plt"
   ]
  },
  {
   "cell_type": "code",
   "execution_count": 2,
   "id": "c0f04e26",
   "metadata": {},
   "outputs": [
    {
     "name": "stdout",
     "output_type": "stream",
     "text": [
      "本接口即将停止更新，请尽快使用Pro版接口：https://waditu.com/document/2\n"
     ]
    },
    {
     "data": {
      "text/plain": [
       "array([['000300', 5036.28, 5005.9, ..., 1505297.0, 291072573440.0, -0.87],\n",
       "       ['000300', 5066.35, 5049.7, ..., 1591077.0, 318685544448.0, -0.67],\n",
       "       ['000300', 5090.02, 5083.8, ..., 2118016.0, 426376527872.0, 0.57],\n",
       "       ...,\n",
       "       ['000300', 3558.7, 3541.73, ..., 784731.0, 121045991424.0, -0.63],\n",
       "       ['000300', 3545.19, 3564.04, ..., 858096.0, 128302440448.0, 0.81],\n",
       "       ['000300', 3592.47, 3535.23, ..., 661010.0, 93419839488.0, nan]],\n",
       "      dtype=object)"
      ]
     },
     "execution_count": 2,
     "metadata": {},
     "output_type": "execute_result"
    }
   ],
   "source": [
    "cons = ts.get_apis()\n",
    "df = ts.bar('000300', conn = cons, asset = 'INDEX', start_date = '2010-01-01', end_date = '')\n",
    "df.apply(lambda x : np.sum(x == 'NaN'))\n",
    "df.info()"
   ]
  },
  {
   "cell_type": "code",
   "execution_count": 30,
   "id": "afeea03d",
   "metadata": {},
   "outputs": [
    {
     "name": "stdout",
     "output_type": "stream",
     "text": [
      "<class 'pandas.core.frame.DataFrame'>\n",
      "DatetimeIndex: 2905 entries, 2021-12-15 to 2010-01-04\n",
      "Data columns (total 8 columns):\n",
      " #   Column    Non-Null Count  Dtype  \n",
      "---  ------    --------------  -----  \n",
      " 0   code      2905 non-null   object \n",
      " 1   open      2905 non-null   float64\n",
      " 2   close     2905 non-null   float64\n",
      " 3   high      2905 non-null   float64\n",
      " 4   low       2905 non-null   float64\n",
      " 5   vol       2905 non-null   float64\n",
      " 6   amount    2905 non-null   float64\n",
      " 7   p_change  2904 non-null   float64\n",
      "dtypes: float64(7), object(1)\n",
      "memory usage: 204.3+ KB\n"
     ]
    },
    {
     "data": {
      "text/html": [
       "<div>\n",
       "<style scoped>\n",
       "    .dataframe tbody tr th:only-of-type {\n",
       "        vertical-align: middle;\n",
       "    }\n",
       "\n",
       "    .dataframe tbody tr th {\n",
       "        vertical-align: top;\n",
       "    }\n",
       "\n",
       "    .dataframe thead th {\n",
       "        text-align: right;\n",
       "    }\n",
       "</style>\n",
       "<table border=\"1\" class=\"dataframe\">\n",
       "  <thead>\n",
       "    <tr style=\"text-align: right;\">\n",
       "      <th></th>\n",
       "      <th>open</th>\n",
       "      <th>close</th>\n",
       "      <th>high</th>\n",
       "      <th>low</th>\n",
       "      <th>vol</th>\n",
       "      <th>amount</th>\n",
       "      <th>p_change</th>\n",
       "    </tr>\n",
       "  </thead>\n",
       "  <tbody>\n",
       "    <tr>\n",
       "      <th>count</th>\n",
       "      <td>2905.000000</td>\n",
       "      <td>2905.000000</td>\n",
       "      <td>2905.000000</td>\n",
       "      <td>2905.000000</td>\n",
       "      <td>2.905000e+03</td>\n",
       "      <td>2.905000e+03</td>\n",
       "      <td>2904.000000</td>\n",
       "    </tr>\n",
       "    <tr>\n",
       "      <th>mean</th>\n",
       "      <td>3401.382802</td>\n",
       "      <td>3404.181243</td>\n",
       "      <td>3430.151649</td>\n",
       "      <td>3373.204761</td>\n",
       "      <td>1.169174e+06</td>\n",
       "      <td>1.577569e+11</td>\n",
       "      <td>0.022311</td>\n",
       "    </tr>\n",
       "    <tr>\n",
       "      <th>std</th>\n",
       "      <td>849.508467</td>\n",
       "      <td>849.726010</td>\n",
       "      <td>855.874376</td>\n",
       "      <td>840.948558</td>\n",
       "      <td>8.724551e+05</td>\n",
       "      <td>1.348053e+11</td>\n",
       "      <td>1.434959</td>\n",
       "    </tr>\n",
       "    <tr>\n",
       "      <th>min</th>\n",
       "      <td>2079.870000</td>\n",
       "      <td>2086.970000</td>\n",
       "      <td>2118.790000</td>\n",
       "      <td>2023.170000</td>\n",
       "      <td>2.190120e+05</td>\n",
       "      <td>2.120044e+10</td>\n",
       "      <td>-8.750000</td>\n",
       "    </tr>\n",
       "    <tr>\n",
       "      <th>25%</th>\n",
       "      <td>2648.930000</td>\n",
       "      <td>2650.850000</td>\n",
       "      <td>2667.680000</td>\n",
       "      <td>2623.600000</td>\n",
       "      <td>6.218530e+05</td>\n",
       "      <td>6.748654e+10</td>\n",
       "      <td>-0.640000</td>\n",
       "    </tr>\n",
       "    <tr>\n",
       "      <th>50%</th>\n",
       "      <td>3319.210000</td>\n",
       "      <td>3324.420000</td>\n",
       "      <td>3344.860000</td>\n",
       "      <td>3295.730000</td>\n",
       "      <td>9.160110e+05</td>\n",
       "      <td>1.108582e+11</td>\n",
       "      <td>0.035000</td>\n",
       "    </tr>\n",
       "    <tr>\n",
       "      <th>75%</th>\n",
       "      <td>3887.550000</td>\n",
       "      <td>3891.230000</td>\n",
       "      <td>3913.960000</td>\n",
       "      <td>3861.010000</td>\n",
       "      <td>1.408889e+06</td>\n",
       "      <td>2.007767e+11</td>\n",
       "      <td>0.720000</td>\n",
       "    </tr>\n",
       "    <tr>\n",
       "      <th>max</th>\n",
       "      <td>5922.070000</td>\n",
       "      <td>5807.720000</td>\n",
       "      <td>5930.910000</td>\n",
       "      <td>5747.660000</td>\n",
       "      <td>6.864391e+06</td>\n",
       "      <td>9.494980e+11</td>\n",
       "      <td>6.710000</td>\n",
       "    </tr>\n",
       "  </tbody>\n",
       "</table>\n",
       "</div>"
      ],
      "text/plain": [
       "              open        close         high          low           vol  \\\n",
       "count  2905.000000  2905.000000  2905.000000  2905.000000  2.905000e+03   \n",
       "mean   3401.382802  3404.181243  3430.151649  3373.204761  1.169174e+06   \n",
       "std     849.508467   849.726010   855.874376   840.948558  8.724551e+05   \n",
       "min    2079.870000  2086.970000  2118.790000  2023.170000  2.190120e+05   \n",
       "25%    2648.930000  2650.850000  2667.680000  2623.600000  6.218530e+05   \n",
       "50%    3319.210000  3324.420000  3344.860000  3295.730000  9.160110e+05   \n",
       "75%    3887.550000  3891.230000  3913.960000  3861.010000  1.408889e+06   \n",
       "max    5922.070000  5807.720000  5930.910000  5747.660000  6.864391e+06   \n",
       "\n",
       "             amount     p_change  \n",
       "count  2.905000e+03  2904.000000  \n",
       "mean   1.577569e+11     0.022311  \n",
       "std    1.348053e+11     1.434959  \n",
       "min    2.120044e+10    -8.750000  \n",
       "25%    6.748654e+10    -0.640000  \n",
       "50%    1.108582e+11     0.035000  \n",
       "75%    2.007767e+11     0.720000  \n",
       "max    9.494980e+11     6.710000  "
      ]
     },
     "execution_count": 30,
     "metadata": {},
     "output_type": "execute_result"
    }
   ],
   "source": [
    "df.info()\n",
    "df.describe()\n",
    "df.to_csv('sh300.csv')\n",
    "df.columns\n",
    "df.describe()"
   ]
  },
  {
   "cell_type": "code",
   "execution_count": null,
   "id": "da3dbbbb",
   "metadata": {},
   "outputs": [],
   "source": []
  }
 ],
 "metadata": {
  "kernelspec": {
   "display_name": "Python 3",
   "language": "python",
   "name": "python3"
  },
  "language_info": {
   "codemirror_mode": {
    "name": "ipython",
    "version": 3
   },
   "file_extension": ".py",
   "mimetype": "text/x-python",
   "name": "python",
   "nbconvert_exporter": "python",
   "pygments_lexer": "ipython3",
   "version": "3.8.8"
  },
  "toc": {
   "base_numbering": 1,
   "nav_menu": {},
   "number_sections": true,
   "sideBar": true,
   "skip_h1_title": false,
   "title_cell": "Table of Contents",
   "title_sidebar": "Contents",
   "toc_cell": false,
   "toc_position": {},
   "toc_section_display": true,
   "toc_window_display": false
  }
 },
 "nbformat": 4,
 "nbformat_minor": 5
}
