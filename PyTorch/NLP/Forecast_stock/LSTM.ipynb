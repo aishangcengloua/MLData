{
 "cells": [
  {
   "cell_type": "markdown",
   "id": "eda421f9",
   "metadata": {},
   "source": [
    "*tushare是一个开源的金融数据源，目前维护的数据非常丰富，质量也很高，对于一般的分析已经足够，可以省去自己到处去爬数据。我这里下载沪深300指数数据进行预测每日的最高价*\n",
    ">*首先使用pip install tushare安装tushare工具包    \n",
    ">github地址<https://github.com/aishangcengloua/MLData/blob/master/PyTorch/NLP/Forecast_stock>*"
   ]
  },
  {
   "cell_type": "code",
   "execution_count": 3,
   "id": "fa1954f3",
   "metadata": {},
   "outputs": [],
   "source": [
    "# import tushare as ts\n",
    "# cons = ts.get_apis()#建立连接\n",
    "# df = ts.bar('000300', conn = cons, asset = 'INDEX', start_date = '2010-01-01', end_date = '')\n",
    "# df.info()#查看没有缺失值之后保存\n",
    "# df.columns#可知沪深300指数（000300）的信息包括交易日期，开盘价，收盘价，最高价，最低价，交易量，成交金额，涨跌幅。\n",
    "# df.to_csv('sh300.csv')"
   ]
  },
  {
   "cell_type": "markdown",
   "id": "4d4d588f",
   "metadata": {},
   "source": [
    "*导入所需的包*"
   ]
  },
  {
   "cell_type": "code",
   "execution_count": 4,
   "id": "18a51ac2",
   "metadata": {},
   "outputs": [],
   "source": [
    "import pandas as pd \n",
    "import numpy as np\n",
    "import torch\n",
    "import torch.nn as nn\n",
    "import torch.optim as optim \n",
    "from torch.utils.tensorboard import SummaryWriter\n",
    "from torch.utils.data import Dataset, DataLoader\n",
    "from matplotlib import pyplot as plt"
   ]
  },
  {
   "cell_type": "markdown",
   "id": "d5dc9266",
   "metadata": {},
   "source": [
    "*数据处理，这里我的思路是取[ 'open', 'close', 'low', 'vol', 'amount', 'p_change']六列作为模型的feature进行训练，'high'列作为标签。此次我使用LSTM进行预测，所以要注意batch，TIME_STEP，input_size的划分，因为有六列feature，所以input_size为6；对于时间序列TIME_STEP，可以任意指定可以通过前n天的参数来预测今天的最高价。\n",
    "比如：n = 3，X=[ [ 'open1', 'close1', 'low1', 'vol1', 'amount1', 'p_change1'] ,[ 'open2', 'close2', 'low2', 'vol2', 'amount2', 'p_change2']，   [ 'open3', 'close3', 'low3', 'vol3', 'amount3', 'p_change3'] ]    Y=[ high4 ]\n",
    "我们要确保我们输入网络的的数据的维度是[batch，TIME_STEP，input_size]。其次是我将数据划分为8 ：2，2份作为预测数据。要注意的是，生成迭代数据的时候，batch_size取值要大一些，否则训练时损失振幅会很大，导致预测效果不好*"
   ]
  },
  {
   "cell_type": "code",
   "execution_count": 5,
   "id": "ace12ab2",
   "metadata": {},
   "outputs": [
    {
     "name": "stdout",
     "output_type": "stream",
     "text": [
      "torch.Size([2900]) 2900\n"
     ]
    },
    {
     "name": "stderr",
     "output_type": "stream",
     "text": [
      "<ipython-input-5-66722fa5da14>:19: UserWarning: Creating a tensor from a list of numpy.ndarrays is extremely slow. Please consider converting the list to a single numpy.ndarray with numpy.array() before converting to a tensor. (Triggered internally at  ..\\torch\\csrc\\utils\\tensor_new.cpp:201.)\n",
      "  data = torch.tensor(data, dtype = torch.float32)\n"
     ]
    }
   ],
   "source": [
    "TIME_STEP = 5#指定序列长度\n",
    "def dataset() :\n",
    "    df = pd.read_csv('sh300.csv')\n",
    "    columns = df.columns\n",
    "    df_index = df['datetime']#获取日期，方便后面作图\n",
    "    df = df[[ 'open', 'close', 'high', 'low', 'vol', 'amount', 'p_change']]\n",
    "    min_high, max_high = min(df['high']), max(df['high'])#保存标签的最大，最小值以便后续恢复真实值\n",
    "    df = df.apply(lambda x : (x - min(x)) / (max(x) - min(x)))#将数据进行归一化\n",
    "    df1 = df[[ 'open', 'close', 'low', 'vol', 'amount', 'p_change']]\n",
    "    data = []\n",
    "    target = []\n",
    "    index = []\n",
    "    for i in range(df.shape[0] - TIME_STEP) :\n",
    "        data.append(df1.iloc[i : i + TIME_STEP].values)#实现时间序列数据的提取\n",
    "        target.append(df['high'].iloc[i + TIME_STEP])#保存今天的真实值，因为我们是用前n天来预测今天的最高值\n",
    "        index.append(df_index.iloc[i + TIME_STEP])\n",
    "    \n",
    "    target = torch.tensor(target, dtype = torch.float32)\n",
    "    data = torch.tensor(data, dtype = torch.float32)\n",
    "    \n",
    "    return min_high, max_high, data, target, index\n",
    "\n",
    "class Stock_dataset(Dataset) :\n",
    "    def __init__(self, data, target, model = 'train') :\n",
    "        super(Stock_dataset, self).__init__()\n",
    "        self.model = model\n",
    "        if model == 'train' :\n",
    "            self.data = data[ : int(data.shape[0] * 0.8)]\n",
    "            self.target = target[ : int(target.shape[0] * 0.8)]\n",
    "        else :\n",
    "            self.data = data[int(data.shape[0] * 0.8) : ]\n",
    "            self.target = target[int(target.shape[0] * 0.8) : ]\n",
    "         \n",
    "    def __getitem__(self, item) :\n",
    "        return self.data[item], self.target[item]\n",
    "    \n",
    "    def __len__(self) :\n",
    "        return len(self.data)\n",
    "    \n",
    "min_high, max_high, data, target, index = dataset()\n",
    "print(target.shape, len(index))\n",
    "train_data = Stock_dataset(data, target, model = 'train')\n",
    "test_data = Stock_dataset(data, target, model = 'test')\n",
    "test_index = index[int(target.shape[0] * 0.8) : ]\n",
    "\n",
    "train_loader = DataLoader(train_data, batch_size = 64, shuffle = True, drop_last = False)#生成可迭代数据\n",
    "test_loader = DataLoader(test_data, batch_size = 64, shuffle = False, drop_last = False)"
   ]
  },
  {
   "cell_type": "markdown",
   "id": "a7c00799",
   "metadata": {},
   "source": [
    "*构建网络，使用LSTM，后将LSTM网络的输出经过线性神经元进行输出。要注意的是LSTM输入和输出的隐含状态为（h， c），当将输出输入到linear网络时，只取最后一次TIME_STEP的输出。*"
   ]
  },
  {
   "cell_type": "code",
   "execution_count": 6,
   "id": "a6278443",
   "metadata": {},
   "outputs": [],
   "source": [
    "class LSTM(nn.Module) :\n",
    "    def __init__(self, INPUT_SIZE, HIDDEN_SIZE) :\n",
    "        super(LSTM, self).__init__()\n",
    "        self.lstm = nn.LSTM(input_size = INPUT_SIZE, hidden_size = HIDDEN_SIZE, batch_first = True)\n",
    "        self.linear = nn.Linear(64, 1)\n",
    "        \n",
    "    def forward(self, x) :\n",
    "        lstm_out, (h, c) = self.lstm(x)\n",
    "        out = self.linear(lstm_out[ : , -1, : ])#降维，最后一次TIME_STEP的输出\n",
    "        return out"
   ]
  },
  {
   "cell_type": "markdown",
   "id": "f31376a2",
   "metadata": {},
   "source": [
    "*设置超参数*"
   ]
  },
  {
   "cell_type": "code",
   "execution_count": 7,
   "id": "3f4c6ca8",
   "metadata": {},
   "outputs": [],
   "source": [
    "TIME_STEP = 5\n",
    "INPUT_SIZE = 6\n",
    "HIDDEN_SIZE = 64\n",
    "EPOCH = 180\n",
    "model = LSTM(INPUT_SIZE = INPUT_SIZE, HIDDEN_SIZE = HIDDEN_SIZE).cuda()\n",
    "criterion = nn.MSELoss()\n",
    "optimizer = optim.Adam(model.parameters(), lr = 0.001)"
   ]
  },
  {
   "cell_type": "markdown",
   "id": "a8d6ea57",
   "metadata": {},
   "source": [
    "*训练，用Tensorboard可视化，关于Tensorboard的使用[点这里](https://blog.csdn.net/weixin_53598445/article/details/121301078)。model的输出是一个矩阵，为了计算loss准确所以要对输出进行降维*"
   ]
  },
  {
   "cell_type": "code",
   "execution_count": 8,
   "id": "fcea0fa7",
   "metadata": {},
   "outputs": [],
   "source": [
    "writer = SummaryWriter(log_dir = 'logs')\n",
    "for epoch in range(EPOCH) :\n",
    "    model.train()\n",
    "    train_loss = 0.0\n",
    "    for x, label in train_loader :\n",
    "        x, label = x.cuda(), label.cuda()\n",
    "        optimizer.zero_grad()\n",
    "        out = model(x)\n",
    "        loss = criterion(torch.squeeze(out), label)#降维\n",
    "        loss.backward()\n",
    "        optimizer.step()\n",
    "#         train_loss += loss.item()\n",
    "#     print(f'train_loss : {train_loss / len(train_loader.dataset) : 0.4f}')\n",
    "    writer.add_scalar('sh300', loss, epoch)#可视化"
   ]
  },
  {
   "cell_type": "markdown",
   "id": "f48f80c0",
   "metadata": {},
   "source": [
    "![jupyter](sh300_loss.PNG)"
   ]
  },
  {
   "cell_type": "markdown",
   "id": "70d5005b",
   "metadata": {},
   "source": [
    "*预测及可视化，在可视化中，为了更好的观察预测效果，我只选择了一百天进行可视化，且为了时间的有序，将它们进行逆序*"
   ]
  },
  {
   "cell_type": "code",
   "execution_count": 9,
   "id": "cfe8d0f0",
   "metadata": {},
   "outputs": [
    {
     "data": {
      "image/png": "[encoded data removed]",
      "text/plain": [
       "<Figure size 432x288 with 1 Axes>"
      ]
     },
     "metadata": {
      "needs_background": "light"
     },
     "output_type": "display_data"
    }
   ],
   "source": [
    "model.eval()\n",
    "pred = []\n",
    "test_target = []\n",
    "for x, label in test_loader :\n",
    "    x, label = x.cuda(), label.cuda()\n",
    "    out = model(x)\n",
    "#     print(out)\n",
    "    test_target.append(label.detach().cpu())\n",
    "    pred.append(out.detach().cpu())\n",
    "test_target = torch.cat(test_target, dim = 0).numpy().squeeze()#将各个batch的输出进行拼接，转成数组再进行降维\n",
    "pred = torch.cat(pred, dim = 0).numpy().squeeze()\n",
    "\n",
    "test_target = test_target * (max_high - min_high) + min_high#还原原始的数据\n",
    "pred = pred * (max_high - min_high) + min_high\n",
    "test_index = np.array(test_index)\n",
    "plt.plot(test_index[ : 101][ : : -1], test_target[ : 101][ : : -1], 'r', label = 'test_target')\n",
    "plt.plot(test_index[ : 101][ : : -1], pred[ : 101][ : : -1], 'b', label = 'prediction')\n",
    "plt.legend(loc = 'upper left')\n",
    "plt.xticks(np.arange(0,101,25), [test_index[100], test_index[75], test_index[50], test_index[25], test_index[0]])\n",
    "plt.show()"
   ]
  },
  {
   "cell_type": "markdown",
   "id": "2d14fe0f",
   "metadata": {},
   "source": [
    "*看上去效果还是很不错的*"
   ]
  }
 ],
 "metadata": {
  "kernelspec": {
   "display_name": "Python 3",
   "language": "python",
   "name": "python3"
  },
  "language_info": {
   "codemirror_mode": {
    "name": "ipython",
    "version": 3
   },
   "file_extension": ".py",
   "mimetype": "text/x-python",
   "name": "python",
   "nbconvert_exporter": "python",
   "pygments_lexer": "ipython3",
   "version": "3.8.8"
  },
  "toc": {
   "base_numbering": 1,
   "nav_menu": {},
   "number_sections": true,
   "sideBar": true,
   "skip_h1_title": false,
   "title_cell": "Table of Contents",
   "title_sidebar": "Contents",
   "toc_cell": false,
   "toc_position": {},
   "toc_section_display": true,
   "toc_window_display": false
  }
 },
 "nbformat": 4,
 "nbformat_minor": 5
}
