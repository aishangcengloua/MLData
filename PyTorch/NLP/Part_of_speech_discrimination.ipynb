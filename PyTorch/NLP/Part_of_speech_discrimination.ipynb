{
 "cells": [
  {
   "cell_type": "markdown",
   "id": "bf4da4bf",
   "metadata": {},
   "source": [
    "导入包"
   ]
  },
  {
   "cell_type": "code",
   "execution_count": 1,
   "id": "382146b9",
   "metadata": {},
   "outputs": [],
   "source": [
    "import numpy as np\n",
    "import torch\n",
    "import torch.nn as nn\n",
    "import torch.optim as optim\n",
    "import torch.nn.functional as F"
   ]
  },
  {
   "cell_type": "markdown",
   "id": "0633528f",
   "metadata": {},
   "source": [
    "定义语句及词性"
   ]
  },
  {
   "cell_type": "code",
   "execution_count": 2,
   "id": "c57c6c2e",
   "metadata": {},
   "outputs": [],
   "source": [
    "train_data = [(\"The cat ate the fish\".split(), [\"DET\", \"NN\", \"V\", \"DET\", \"NN\"]), \n",
    "             (\"They read that book\".split(), [\"NN\", \"V\", \"DET\", \"NN\"])]\n",
    "\n",
    "test_data = [(\"They ate the fish\".split())]"
   ]
  },
  {
   "cell_type": "markdown",
   "id": "11705380",
   "metadata": {},
   "source": [
    "构建每个单词的索引字典"
   ]
  },
  {
   "cell_type": "code",
   "execution_count": 3,
   "id": "2b920bbb",
   "metadata": {},
   "outputs": [
    {
     "data": {
      "text/plain": [
       "{'The': 0,\n",
       " 'cat': 1,\n",
       " 'ate': 2,\n",
       " 'the': 3,\n",
       " 'fish': 4,\n",
       " 'They': 5,\n",
       " 'read': 6,\n",
       " 'that': 7,\n",
       " 'book': 8}"
      ]
     },
     "execution_count": 3,
     "metadata": {},
     "output_type": "execute_result"
    }
   ],
   "source": [
    "word_to_ix = {}\n",
    "for sent, tags in train_data :\n",
    "    for word in sent :\n",
    "        if word not in word_to_ix :\n",
    "            word_to_ix[word] = len(word_to_ix)\n",
    "word_to_ix"
   ]
  },
  {
   "cell_type": "markdown",
   "id": "5d3cf1ae",
   "metadata": {},
   "source": [
    "手工设置词性的索引字典"
   ]
  },
  {
   "cell_type": "code",
   "execution_count": 4,
   "id": "656c8fa1",
   "metadata": {},
   "outputs": [],
   "source": [
    "tag_to_ix = {\"DET\" : 0, \"NN\" : 1, \"V\" : 2}"
   ]
  },
  {
   "cell_type": "markdown",
   "id": "5afdfcbc",
   "metadata": {},
   "source": [
    "构建网络"
   ]
  },
  {
   "cell_type": "code",
   "execution_count": 5,
   "id": "ded31e6c",
   "metadata": {},
   "outputs": [],
   "source": [
    "class LSTMTagger(nn.Module) :\n",
    "    def __init__(self, embedding_dim, hidden_dim, vocab_size, tagset_size) :\n",
    "        super(LSTMTagger, self).__init__()\n",
    "        self.hidden_dim = hidden_dim\n",
    "        self.word_embedding = nn.Embedding(vocab_size, embedding_dim)\n",
    "        self.lstm = nn.LSTM(embedding_dim, hidden_dim)\n",
    "        self.hidden2tag = nn.Linear(hidden_dim, tagset_size)\n",
    "        self.hidden = self.init_hidden()\n",
    "        \n",
    "    def init_hidden(self) :\n",
    "        return (torch.zeros(1, 1, self.hidden_dim), torch.zeros(1, 1, self.hidden_dim))\n",
    "    \n",
    "    def forward(self, sentence) :\n",
    "        embeds = self.word_embedding(sentence)\n",
    "        lstm_out, self.hidden = self.lstm(embeds.view(len(sentence), 1, -1), self.hidden)\n",
    "        tag_space = self.hidden2tag(lstm_out[ : , -1, : ])\n",
    "        tag_score = F.log_softmax(tag_space, dim = 1)\n",
    "        \n",
    "        return tag_score"
   ]
  },
  {
   "cell_type": "markdown",
   "id": "f9b2a1dd",
   "metadata": {},
   "source": [
    "将数据转换成torch.LongTensor张量"
   ]
  },
  {
   "cell_type": "code",
   "execution_count": 6,
   "id": "4b9c4a2d",
   "metadata": {},
   "outputs": [],
   "source": [
    "def prepare_sequence(seq, to_ix) :\n",
    "    idxs = [to_ix[w] for w in seq] \n",
    "    tensor = torch.LongTensor(idxs)\n",
    "    return tensor"
   ]
  },
  {
   "cell_type": "markdown",
   "id": "1d327325",
   "metadata": {},
   "source": [
    "定义超参数，实例化模型，损失函数，优化器等。"
   ]
  },
  {
   "cell_type": "code",
   "execution_count": 7,
   "id": "e8053d22",
   "metadata": {},
   "outputs": [],
   "source": [
    "EMBEDDING_DIM = 10\n",
    "HIDDEN_DIM = 3\n",
    "model = LSTMTagger(EMBEDDING_DIM, HIDDEN_DIM, len(word_to_ix), len(tag_to_ix))\n",
    "loss_function = nn.NLLLoss()\n",
    "optimizer = optim.SGD(model.parameters(), lr = 0.01, momentum = 0.9)"
   ]
  },
  {
   "cell_type": "markdown",
   "id": "4b9e73a5",
   "metadata": {},
   "source": [
    "训练"
   ]
  },
  {
   "cell_type": "code",
   "execution_count": 8,
   "id": "f29bfd3b",
   "metadata": {},
   "outputs": [
    {
     "name": "stdout",
     "output_type": "stream",
     "text": [
      "['The', 'cat', 'ate', 'the', 'fish']\n",
      "tensor([[-0.3272, -1.4703, -3.0117],\n",
      "        [-4.8951, -0.0264, -3.9855],\n",
      "        [-5.0057, -2.9583, -0.0604],\n",
      "        [-0.0183, -4.7081, -4.6945],\n",
      "        [-4.8977, -0.0199, -4.4018]], grad_fn=<LogSoftmaxBackward0>)\n",
      "torch.return_types.max(\n",
      "values=tensor([-0.3272, -0.0264, -0.0604, -0.0183, -0.0199], grad_fn=<MaxBackward0>),\n",
      "indices=tensor([0, 1, 2, 0, 1]))\n",
      "['DET', 'NN', 'V', 'DET', 'NN']\n"
     ]
    }
   ],
   "source": [
    "for epoch in range(400) :\n",
    "    for sentence, tags in train_data :\n",
    "        model.zero_grad()\n",
    "        model.hidden = model.init_hidden()\n",
    "        sentence_in = prepare_sequence(sentence, word_to_ix)\n",
    "        targets = prepare_sequence(tags, tag_to_ix)\n",
    "#         print(targets)\n",
    "        \n",
    "        tag_score = model(sentence_in)\n",
    "        loss = loss_function(tag_score, targets)\n",
    "        loss.backward()\n",
    "        optimizer.step()\n",
    "        \n",
    "inputs = prepare_sequence(train_data[0][0], word_to_ix)\n",
    "tag_score = model(inputs)\n",
    "_, pred = torch.max(tag_score, 1)\n",
    "pred = pred.data.numpy()\n",
    "# print(pred.dtype)\n",
    "print(train_data[0][0])\n",
    "print(tag_score)\n",
    "print(torch.max(tag_score, 1))\n",
    "\n",
    "print(train_data[0][1])"
   ]
  },
  {
   "cell_type": "markdown",
   "id": "0c86da7b",
   "metadata": {},
   "source": [
    "测试模型"
   ]
  },
  {
   "cell_type": "code",
   "execution_count": 9,
   "id": "2a51827b",
   "metadata": {},
   "outputs": [
    {
     "name": "stdout",
     "output_type": "stream",
     "text": [
      "['They', 'ate', 'the', 'fish']\n",
      "tensor([5, 2, 3, 4])\n",
      "tensor([[-6.2753, -0.0133, -4.4787],\n",
      "        [-4.9165, -2.6408, -0.0819],\n",
      "        [-0.0186, -4.4871, -4.9349],\n",
      "        [-4.8952, -0.0196, -4.4273]], grad_fn=<LogSoftmaxBackward0>)\n",
      "torch.return_types.max(\n",
      "values=tensor([-0.0133, -0.0819, -0.0186, -0.0196], grad_fn=<MaxBackward0>),\n",
      "indices=tensor([1, 2, 0, 1]))\n"
     ]
    }
   ],
   "source": [
    "test_inputs = prepare_sequence(test_data[0], word_to_ix)\n",
    "tag_score = model(test_inputs)\n",
    "print(test_data[0])\n",
    "print(test_inputs)\n",
    "print(tag_score)\n",
    "print(torch.max(tag_score, 1))"
   ]
  },
  {
   "cell_type": "code",
   "execution_count": 10,
   "id": "96348481",
   "metadata": {},
   "outputs": [
    {
     "name": "stdout",
     "output_type": "stream",
     "text": [
      "tensor(1.1135)\n",
      "tensor(1.1135)\n"
     ]
    },
    {
     "name": "stderr",
     "output_type": "stream",
     "text": [
      "<ipython-input-10-f83ea28a6d34>:8: UserWarning: Implicit dimension choice for log_softmax has been deprecated. Change the call to include dim=X as an argument.\n",
      "  loss = F.log_softmax(prediction)\n"
     ]
    }
   ],
   "source": [
    "prediction = torch.rand((1, 3))\n",
    "target = torch.tensor([1])\n",
    "\n",
    "Crossentropy = nn.CrossEntropyLoss()\n",
    "loss = Crossentropy(prediction, target)\n",
    "print(loss)\n",
    "\n",
    "loss = F.log_softmax(prediction)\n",
    "nll = nn.NLLLoss()\n",
    "loss = nll(loss, target)\n",
    "print(loss)"
   ]
  }
 ],
 "metadata": {
  "kernelspec": {
   "display_name": "Python 3",
   "language": "python",
   "name": "python3"
  },
  "language_info": {
   "codemirror_mode": {
    "name": "ipython",
    "version": 3
   },
   "file_extension": ".py",
   "mimetype": "text/x-python",
   "name": "python",
   "nbconvert_exporter": "python",
   "pygments_lexer": "ipython3",
   "version": "3.8.8"
  },
  "toc": {
   "base_numbering": 1,
   "nav_menu": {},
   "number_sections": true,
   "sideBar": true,
   "skip_h1_title": false,
   "title_cell": "Table of Contents",
   "title_sidebar": "Contents",
   "toc_cell": false,
   "toc_position": {},
   "toc_section_display": true,
   "toc_window_display": false
  }
 },
 "nbformat": 4,
 "nbformat_minor": 5
}
