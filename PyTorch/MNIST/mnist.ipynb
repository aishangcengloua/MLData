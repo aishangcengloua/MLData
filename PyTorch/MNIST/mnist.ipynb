{
 "cells": [
  {
   "cell_type": "code",
   "execution_count": 11,
   "id": "d49c5d3a",
   "metadata": {},
   "outputs": [
    {
     "name": "stderr",
     "output_type": "stream",
     "text": [
      "<ipython-input-11-007201d0e885>:33: UserWarning: Implicit dimension choice for softmax has been deprecated. Change the call to include dim=X as an argument.\n",
      "  return F.softmax(self.Net(input))\n"
     ]
    },
    {
     "name": "stdout",
     "output_type": "stream",
     "text": [
      "epoch : 1, train_loss : 2.3625201543511105, train_acc : 0.0986307302771855, test_loss : 2.3652113926638463, test_acc : 0.09593949044585988\n",
      "epoch : 2, train_loss : 2.3624535232210464, train_acc : 0.09869736140724947, test_loss : 2.3652113926638463, test_acc : 0.09593949044585988\n",
      "epoch : 3, train_loss : 2.3625201543511105, train_acc : 0.0986307302771855, test_loss : 2.3652113926638463, test_acc : 0.09593949044585988\n"
     ]
    }
   ],
   "source": [
    "import torch\n",
    "import torch.nn as nn\n",
    "import torch.optim as optim\n",
    "import torch.nn.functional as F\n",
    "from torch.utils.data import Dataset, DataLoader\n",
    "from torchvision import datasets, transforms\n",
    "from torchvision import models\n",
    "\n",
    "train_set = datasets.MNIST(root = './data',\n",
    "                           train = True,\n",
    "                           download = True,\n",
    "                           transform = transforms.ToTensor())\n",
    "\n",
    "test_set = datasets.MNIST(root = './data',\n",
    "                          train = False,\n",
    "                          download = True,\n",
    "                          transform = transforms.ToTensor())\n",
    "\n",
    "class MLP(nn.Module) :\n",
    "    def __init__(self):\n",
    "        super(MLP, self).__init__()\n",
    "        self.Net = nn.Sequential(\n",
    "            nn.Linear(784, 512),\n",
    "            nn.ReLU(),\n",
    "\n",
    "            nn.Linear(512, 128),\n",
    "            nn.ReLU(),\n",
    "\n",
    "            nn.Linear(128, 10), \n",
    "        )\n",
    "    def forward(self, input):\n",
    "        input = input.view(-1, 28 * 28)\n",
    "        return F.softmax(self.Net(input))\n",
    "\n",
    "def weights_init(m) :\n",
    "    if isinstance(m, (nn.Linear, nn.Conv2d)) :\n",
    "        nn.init.uniform_(m.weight)\n",
    "        nn.init.constant_(m.bias, 0.0)\n",
    "\n",
    "Batch_size = 64\n",
    "Max_epoch = 3\n",
    "learning_rate = 0.01\n",
    "device = torch.device('cuda' if torch.cuda.is_available() else \"cpu\")\n",
    "model = MLP().to(device)\n",
    "model.apply(weights_init)\n",
    "\n",
    "train_loader = DataLoader(train_set, batch_size = Batch_size, shuffle = True, num_workers = 0)\n",
    "test_loader = DataLoader(test_set, batch_size = Batch_size, shuffle = False, num_workers = 0)\n",
    "criterion = nn.CrossEntropyLoss()\n",
    "optimizer = optim.SGD(model.parameters(), momentum = 0.9, lr = learning_rate)\n",
    "\n",
    "train_losses = []\n",
    "train_acces = []\n",
    "\n",
    "for epoch in range(Max_epoch) :\n",
    "    model.train()\n",
    "    train_loss = 0.0\n",
    "    train_acc = 0.0\n",
    "    for input, label in train_loader :\n",
    "        input, label = input.to(device), label.to(device)\n",
    "\n",
    "        optimizer.zero_grad()\n",
    "        outputs = model(input)\n",
    "#         print(torch.sum(outputs) / outputs.shape[0])\n",
    "\n",
    "        loss = criterion(outputs, label)\n",
    "        train_loss += loss.item()\n",
    "        loss.backward()\n",
    "\n",
    "        _, pred = torch.max(outputs, dim = 1)\n",
    "        num_correct = (pred == label).sum().item()\n",
    "        acc = num_correct / input.size(0)\n",
    "        train_acc += acc\n",
    "\n",
    "        optimizer.step()\n",
    "    with torch.no_grad():\n",
    "        model.eval()\n",
    "        total_loss = 0.0\n",
    "        test_acc = 0.0\n",
    "        for input, label in test_loader:\n",
    "            input, label = input.to(device), label.to(device)\n",
    "\n",
    "            outputs = model(input)\n",
    "            loss = criterion(outputs, label)\n",
    "            total_loss += loss.item()\n",
    "\n",
    "            _, pred = torch.max(outputs, dim=1)\n",
    "            num_correct = (pred == label).sum().item()\n",
    "            acc = num_correct / input.size(0)\n",
    "            test_acc += acc\n",
    "\n",
    "    train_losses.append(train_loss / len(train_loader))\n",
    "    train_acces.append(train_acc / len(train_loader))\n",
    "\n",
    "    print(f'epoch : {epoch + 1}, train_loss : {train_loss / len(train_loader)}, '\n",
    "          f'train_acc : {train_acc / len(train_loader)}, '\n",
    "          f'test_loss : {total_loss / len(test_loader)}, '\n",
    "          f'test_acc : {test_acc / len(test_loader)}')\n"
   ]
  },
  {
   "cell_type": "code",
   "execution_count": 8,
   "id": "2337e27b",
   "metadata": {},
   "outputs": [
    {
     "name": "stdout",
     "output_type": "stream",
     "text": [
      "tensor([[0.3769, 0.7266, 0.6105, 0.0085],\n",
      "        [0.3868, 0.7112, 0.6474, 0.3288],\n",
      "        [0.7520, 0.4217, 0.2518, 0.2033]])\n"
     ]
    }
   ],
   "source": [
    "import torch.nn as nn\n",
    "import torch\n",
    "\n",
    "w = torch.empty(3, 4)\n",
    "print(nn.init.uniform_(w))"
   ]
  }
 ],
 "metadata": {
  "kernelspec": {
   "display_name": "Python 3",
   "language": "python",
   "name": "python3"
  },
  "language_info": {
   "codemirror_mode": {
    "name": "ipython",
    "version": 3
   },
   "file_extension": ".py",
   "mimetype": "text/x-python",
   "name": "python",
   "nbconvert_exporter": "python",
   "pygments_lexer": "ipython3",
   "version": "3.8.8"
  },
  "toc": {
   "base_numbering": 1,
   "nav_menu": {},
   "number_sections": true,
   "sideBar": true,
   "skip_h1_title": false,
   "title_cell": "Table of Contents",
   "title_sidebar": "Contents",
   "toc_cell": false,
   "toc_position": {},
   "toc_section_display": true,
   "toc_window_display": false
  }
 },
 "nbformat": 4,
 "nbformat_minor": 5
}
